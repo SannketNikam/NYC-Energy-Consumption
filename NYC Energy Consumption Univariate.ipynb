{
 "cells": [
  {
   "cell_type": "markdown",
   "id": "9f796721",
   "metadata": {},
   "source": [
    "# New York City's Energy Consumption Time Series Modelling using Auto Arima"
   ]
  },
  {
   "cell_type": "markdown",
   "id": "ecffc27a",
   "metadata": {},
   "source": [
    "## Checking Fbprophet"
   ]
  },
  {
   "cell_type": "code",
   "execution_count": 6,
   "id": "fe7eafda",
   "metadata": {},
   "outputs": [
    {
     "name": "stdout",
     "output_type": "stream",
     "text": [
      "Name: fbprophet\n",
      "Version: 0.7.1\n",
      "Summary: Automatic Forecasting Procedure\n",
      "Home-page: https://facebook.github.io/prophet/\n",
      "Author: Sean J. Taylor <sjtz@pm.me>, Ben Letham <bletham@fb.com>\n",
      "Author-email: sjtz@pm.me\n",
      "License: MIT\n",
      "Location: c:\\users\\sanket\\anaconda3\\envs\\fbprophet\\lib\\site-packages\n",
      "Requires: cmdstanpy, convertdate, Cython, holidays, LunarCalendar, matplotlib, numpy, pandas, pystan, python-dateutil, setuptools-git, tqdm\n",
      "Required-by: \n",
      "Note: you may need to restart the kernel to use updated packages.\n"
     ]
    }
   ],
   "source": [
    "pip show fbprophet"
   ]
  },
  {
   "cell_type": "markdown",
   "id": "8a1acb00",
   "metadata": {},
   "source": [
    "# 1. Import Libraries"
   ]
  },
  {
   "cell_type": "code",
   "execution_count": 8,
   "id": "ea6fc38d",
   "metadata": {},
   "outputs": [],
   "source": [
    "import matplotlib as mpl\n",
    "import matplotlib.pyplot as plt\n",
    "import numpy as np\n",
    "import os\n",
    "from datetime import datetime\n",
    "import pandas as pd\n",
    "import plotly.express as px\n",
    "\n",
    "mpl.rcParams['figure.figsize'] = (10, 8)\n",
    "mpl.rcParams['axes.grid'] = False\n",
    "\n",
    "from fbprophet import Prophet\n",
    "from fbprophet.plot import add_changepoints_to_plot, plot_plotly\n",
    "from fbprophet.diagnostics import cross_validation, performance_metrics"
   ]
  },
  {
   "cell_type": "code",
   "execution_count": 9,
   "id": "b7e1b856",
   "metadata": {},
   "outputs": [
    {
     "data": {
      "text/html": [
       "<div>\n",
       "<style scoped>\n",
       "    .dataframe tbody tr th:only-of-type {\n",
       "        vertical-align: middle;\n",
       "    }\n",
       "\n",
       "    .dataframe tbody tr th {\n",
       "        vertical-align: top;\n",
       "    }\n",
       "\n",
       "    .dataframe thead th {\n",
       "        text-align: right;\n",
       "    }\n",
       "</style>\n",
       "<table border=\"1\" class=\"dataframe\">\n",
       "  <thead>\n",
       "    <tr style=\"text-align: right;\">\n",
       "      <th></th>\n",
       "      <th>timeStamp</th>\n",
       "      <th>demand</th>\n",
       "      <th>precip</th>\n",
       "      <th>temp</th>\n",
       "    </tr>\n",
       "  </thead>\n",
       "  <tbody>\n",
       "    <tr>\n",
       "      <th>0</th>\n",
       "      <td>2012-01-01 01:00:00</td>\n",
       "      <td>4752.1</td>\n",
       "      <td>0.0000</td>\n",
       "      <td>45.89</td>\n",
       "    </tr>\n",
       "    <tr>\n",
       "      <th>1</th>\n",
       "      <td>2012-01-01 02:00:00</td>\n",
       "      <td>4542.6</td>\n",
       "      <td>0.0000</td>\n",
       "      <td>45.04</td>\n",
       "    </tr>\n",
       "    <tr>\n",
       "      <th>2</th>\n",
       "      <td>2012-01-01 03:00:00</td>\n",
       "      <td>4357.7</td>\n",
       "      <td>0.0000</td>\n",
       "      <td>45.03</td>\n",
       "    </tr>\n",
       "    <tr>\n",
       "      <th>3</th>\n",
       "      <td>2012-01-01 04:00:00</td>\n",
       "      <td>4275.5</td>\n",
       "      <td>0.0000</td>\n",
       "      <td>42.61</td>\n",
       "    </tr>\n",
       "    <tr>\n",
       "      <th>4</th>\n",
       "      <td>2012-01-01 05:00:00</td>\n",
       "      <td>4274.7</td>\n",
       "      <td>0.0000</td>\n",
       "      <td>39.02</td>\n",
       "    </tr>\n",
       "    <tr>\n",
       "      <th>...</th>\n",
       "      <td>...</td>\n",
       "      <td>...</td>\n",
       "      <td>...</td>\n",
       "      <td>...</td>\n",
       "    </tr>\n",
       "    <tr>\n",
       "      <th>49199</th>\n",
       "      <td>2017-08-12 02:00:00</td>\n",
       "      <td>NaN</td>\n",
       "      <td>0.0000</td>\n",
       "      <td>70.84</td>\n",
       "    </tr>\n",
       "    <tr>\n",
       "      <th>49200</th>\n",
       "      <td>2017-08-12 03:00:00</td>\n",
       "      <td>NaN</td>\n",
       "      <td>0.0000</td>\n",
       "      <td>70.57</td>\n",
       "    </tr>\n",
       "    <tr>\n",
       "      <th>49201</th>\n",
       "      <td>2017-08-12 04:00:00</td>\n",
       "      <td>NaN</td>\n",
       "      <td>0.0000</td>\n",
       "      <td>69.89</td>\n",
       "    </tr>\n",
       "    <tr>\n",
       "      <th>49202</th>\n",
       "      <td>2017-08-12 05:00:00</td>\n",
       "      <td>NaN</td>\n",
       "      <td>0.0000</td>\n",
       "      <td>68.59</td>\n",
       "    </tr>\n",
       "    <tr>\n",
       "      <th>49203</th>\n",
       "      <td>2017-08-12 06:00:00</td>\n",
       "      <td>NaN</td>\n",
       "      <td>0.0031</td>\n",
       "      <td>67.33</td>\n",
       "    </tr>\n",
       "  </tbody>\n",
       "</table>\n",
       "<p>49204 rows × 4 columns</p>\n",
       "</div>"
      ],
      "text/plain": [
       "                 timeStamp  demand  precip   temp\n",
       "0      2012-01-01 01:00:00  4752.1  0.0000  45.89\n",
       "1      2012-01-01 02:00:00  4542.6  0.0000  45.04\n",
       "2      2012-01-01 03:00:00  4357.7  0.0000  45.03\n",
       "3      2012-01-01 04:00:00  4275.5  0.0000  42.61\n",
       "4      2012-01-01 05:00:00  4274.7  0.0000  39.02\n",
       "...                    ...     ...     ...    ...\n",
       "49199  2017-08-12 02:00:00     NaN  0.0000  70.84\n",
       "49200  2017-08-12 03:00:00     NaN  0.0000  70.57\n",
       "49201  2017-08-12 04:00:00     NaN  0.0000  69.89\n",
       "49202  2017-08-12 05:00:00     NaN  0.0000  68.59\n",
       "49203  2017-08-12 06:00:00     NaN  0.0031  67.33\n",
       "\n",
       "[49204 rows x 4 columns]"
      ]
     },
     "execution_count": 9,
     "metadata": {},
     "output_type": "execute_result"
    }
   ],
   "source": [
    "df = pd.read_csv('./Data/NYC_Energy_Consumption.csv')\n",
    "df"
   ]
  },
  {
   "cell_type": "code",
   "execution_count": null,
   "id": "0d6419f5",
   "metadata": {},
   "outputs": [],
   "source": [
    "df['timeStamp']=pd.to_datetime(df['timeStamp'])"
   ]
  }
 ],
 "metadata": {
  "kernelspec": {
   "display_name": "Python 3 (ipykernel)",
   "language": "python",
   "name": "python3"
  },
  "language_info": {
   "codemirror_mode": {
    "name": "ipython",
    "version": 3
   },
   "file_extension": ".py",
   "mimetype": "text/x-python",
   "name": "python",
   "nbconvert_exporter": "python",
   "pygments_lexer": "ipython3",
   "version": "3.7.16"
  }
 },
 "nbformat": 4,
 "nbformat_minor": 5
}
